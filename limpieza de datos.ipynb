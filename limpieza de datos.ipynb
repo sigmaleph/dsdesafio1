{
 "cells": [
  {
   "cell_type": "code",
   "execution_count": 1,
   "metadata": {},
   "outputs": [],
   "source": [
    "import pandas as pd\n",
    "import matplotlib.pyplot as plt\n",
    "import numpy as np"
   ]
  },
  {
   "cell_type": "code",
   "execution_count": 2,
   "metadata": {},
   "outputs": [],
   "source": [
    "dfo=pd.read_csv('properatti.csv')"
   ]
  },
  {
   "cell_type": "code",
   "execution_count": 3,
   "metadata": {},
   "outputs": [
    {
     "data": {
      "text/plain": [
       "Index(['Unnamed: 0', 'operation', 'property_type', 'place_name',\n",
       "       'place_with_parent_names', 'country_name', 'state_name', 'geonames_id',\n",
       "       'lat-lon', 'lat', 'lon', 'price', 'currency',\n",
       "       'price_aprox_local_currency', 'price_aprox_usd', 'surface_total_in_m2',\n",
       "       'surface_covered_in_m2', 'price_usd_per_m2', 'price_per_m2', 'floor',\n",
       "       'rooms', 'expenses', 'properati_url', 'description', 'title',\n",
       "       'image_thumbnail'],\n",
       "      dtype='object')"
      ]
     },
     "execution_count": 3,
     "metadata": {},
     "output_type": "execute_result"
    }
   ],
   "source": [
    "dfo.columns"
   ]
  },
  {
   "cell_type": "markdown",
   "metadata": {},
   "source": [
    "# Enfoque\n",
    "\n",
    "Queremos enfocarnos en\n",
    "\n",
    "-  departamentos\n",
    "-  en Capital Federal\n",
    "-  denominados en USD\n",
    "\n",
    "y de ellos analizar\n",
    "\n",
    "-  el barrio ('place_name', 'lat', 'lon')\n",
    "-  el precio por metro cuadrado ('price', 'surface_total_in_m2', 'surface_covered_in_m2', 'price_usd_per_m2', 'price_per_m2')\n",
    "-  ??expensas ('expenses')\n",
    "-  datos extraíbles de la descripción ('description', 'title', 'rooms')\n",
    "\n",
    "Gran parte de la información está faltante, por lo cual hay que aprovechar redundancias en los datos pare inferirla"
   ]
  },
  {
   "cell_type": "code",
   "execution_count": 4,
   "metadata": {},
   "outputs": [
    {
     "data": {
      "text/plain": [
       "Unnamed: 0                    0.000000\n",
       "operation                     0.000000\n",
       "property_type                 0.000000\n",
       "place_name                    0.000190\n",
       "place_with_parent_names       0.000000\n",
       "country_name                  0.000000\n",
       "state_name                    0.000000\n",
       "geonames_id                   0.154405\n",
       "lat-lon                       0.425260\n",
       "lat                           0.425260\n",
       "lon                           0.425260\n",
       "price                         0.168372\n",
       "currency                      0.168380\n",
       "price_aprox_local_currency    0.168372\n",
       "price_aprox_usd               0.168372\n",
       "surface_total_in_m2           0.324435\n",
       "surface_covered_in_m2         0.164222\n",
       "price_usd_per_m2              0.433947\n",
       "price_per_m2                  0.276869\n",
       "floor                         0.934837\n",
       "rooms                         0.609058\n",
       "expenses                      0.882346\n",
       "properati_url                 0.000000\n",
       "description                   0.000016\n",
       "title                         0.000000\n",
       "image_thumbnail               0.025672\n",
       "dtype: float64"
      ]
     },
     "execution_count": 4,
     "metadata": {},
     "output_type": "execute_result"
    }
   ],
   "source": [
    "dfo.isnull().sum()/len(dfo)"
   ]
  },
  {
   "cell_type": "markdown",
   "metadata": {},
   "source": [
    "## Paso 1: Capital Federal\n",
    "\n",
    "Se encuentra en la variable 'state_name' y representa la mayor zona geográfica en el dataset"
   ]
  },
  {
   "cell_type": "code",
   "execution_count": 5,
   "metadata": {},
   "outputs": [
    {
     "data": {
      "text/plain": [
       "Capital Federal                 32316\n",
       "Bs.As. G.B.A. Zona Norte        25560\n",
       "Bs.As. G.B.A. Zona Sur          13952\n",
       "Córdoba                         12069\n",
       "Santa Fe                        10172\n",
       "Buenos Aires Costa Atlántica    10006\n",
       "Bs.As. G.B.A. Zona Oeste         9322\n",
       "Buenos Aires Interior            2291\n",
       "Río Negro                         808\n",
       "Neuquén                           733\n",
       "Mendoza                           681\n",
       "Tucumán                           674\n",
       "Corrientes                        583\n",
       "Misiones                          464\n",
       "Entre Ríos                        369\n",
       "Salta                             278\n",
       "Chubut                            259\n",
       "San Luis                          252\n",
       "La Pampa                          157\n",
       "Formosa                            65\n",
       "Chaco                              57\n",
       "San Juan                           40\n",
       "Tierra Del Fuego                   31\n",
       "Catamarca                          27\n",
       "Jujuy                              26\n",
       "Santa Cruz                         20\n",
       "Santiago Del Estero                 4\n",
       "La Rioja                            4\n",
       "Name: state_name, dtype: int64"
      ]
     },
     "execution_count": 5,
     "metadata": {},
     "output_type": "execute_result"
    }
   ],
   "source": [
    "dfo['state_name'].value_counts()"
   ]
  },
  {
   "cell_type": "markdown",
   "metadata": {},
   "source": [
    "## Paso 2: departamentos\n",
    "\n",
    "Si la propiedad es una casa, un departamento, un PH o un negocio se alamcena en la columna 'property_type'. Dentro de Capital, hay un orden de magnitud más departamentos que casas en venta en el dataset"
   ]
  },
  {
   "cell_type": "code",
   "execution_count": 6,
   "metadata": {},
   "outputs": [
    {
     "data": {
      "text/plain": [
       "apartment    27037\n",
       "house         2087\n",
       "PH            1828\n",
       "store         1364\n",
       "Name: property_type, dtype: int64"
      ]
     },
     "execution_count": 6,
     "metadata": {},
     "output_type": "execute_result"
    }
   ],
   "source": [
    "dfo.loc[dfo['state_name']=='Capital Federal', 'property_type'].value_counts()"
   ]
  },
  {
   "cell_type": "code",
   "execution_count": 7,
   "metadata": {},
   "outputs": [],
   "source": [
    "df1=dfo.loc[(dfo['state_name']=='Capital Federal')&(dfo['property_type']=='apartment')]"
   ]
  },
  {
   "cell_type": "markdown",
   "metadata": {},
   "source": [
    "## Paso 3: moneda\n",
    "\n",
    "La tercer restricción que queremos hacer al dataset es restringirnos a las propiedas denominadas en dólares, sin embargo esto requiere más análisis que los pasos anteriores, ya que la columna 'currency' presenta valores nulos que trataremos de llenar"
   ]
  },
  {
   "cell_type": "code",
   "execution_count": 8,
   "metadata": {},
   "outputs": [
    {
     "data": {
      "text/plain": [
       "0.1066316529200725"
      ]
     },
     "execution_count": 8,
     "metadata": {},
     "output_type": "execute_result"
    }
   ],
   "source": [
    "df1['currency'].isnull().sum()/len(df1)"
   ]
  },
  {
   "cell_type": "markdown",
   "metadata": {},
   "source": [
    "Observemos entonces redundancias en los datos: hay tres columnas que indican el precio, que son 'price', 'price_aprox_local_currency', y 'price_aprox_usd'. ¿Podemos sacar algo de ésto?"
   ]
  },
  {
   "cell_type": "code",
   "execution_count": 9,
   "metadata": {},
   "outputs": [
    {
     "data": {
      "text/plain": [
       "2883"
      ]
     },
     "execution_count": 9,
     "metadata": {},
     "output_type": "execute_result"
    }
   ],
   "source": [
    "len(df1[df1['currency'].isnull()])"
   ]
  },
  {
   "cell_type": "code",
   "execution_count": 10,
   "metadata": {},
   "outputs": [
    {
     "data": {
      "text/plain": [
       "2883"
      ]
     },
     "execution_count": 10,
     "metadata": {},
     "output_type": "execute_result"
    }
   ],
   "source": [
    "len(df1[(df1['currency'].isnull())&(df1['price'].isnull())])"
   ]
  },
  {
   "cell_type": "code",
   "execution_count": 11,
   "metadata": {},
   "outputs": [
    {
     "data": {
      "text/plain": [
       "2883"
      ]
     },
     "execution_count": 11,
     "metadata": {},
     "output_type": "execute_result"
    }
   ],
   "source": [
    "len(df1[(df1['currency'].isnull())&(df1['price_aprox_usd'].isnull())])"
   ]
  },
  {
   "cell_type": "markdown",
   "metadata": {},
   "source": [
    "**No**. Cuando 'currency' es nulo, 'price' y 'price_aprox_usd' también lo son. Consideremos entonces las columnas 'price_usd_per_m2' y 'price_per_m2', que podrían también tener información util"
   ]
  },
  {
   "cell_type": "code",
   "execution_count": 12,
   "metadata": {},
   "outputs": [
    {
     "data": {
      "text/plain": [
       "2883"
      ]
     },
     "execution_count": 12,
     "metadata": {},
     "output_type": "execute_result"
    }
   ],
   "source": [
    "len(df1[(df1['currency'].isnull())&(df1['price_usd_per_m2'].isnull())])"
   ]
  },
  {
   "cell_type": "code",
   "execution_count": 13,
   "metadata": {},
   "outputs": [
    {
     "data": {
      "text/plain": [
       "2883"
      ]
     },
     "execution_count": 13,
     "metadata": {},
     "output_type": "execute_result"
    }
   ],
   "source": [
    "len(df1[(df1['currency'].isnull())&(df1['price_per_m2'].isnull())])"
   ]
  },
  {
   "cell_type": "markdown",
   "metadata": {},
   "source": [
    "Tampoco. Cuando 'currency' es nulo, no hay información de precios en el dataset. En conclusión, esas filas no nos sirven y no hay nada que podamos hacer con ellas. Podemos entonces quedarnos con el dataset restricto a precios denominados explícitamente en dólares"
   ]
  },
  {
   "cell_type": "code",
   "execution_count": 14,
   "metadata": {},
   "outputs": [],
   "source": [
    "df2=df1[df1['currency']=='USD'].copy()"
   ]
  },
  {
   "cell_type": "code",
   "execution_count": 15,
   "metadata": {},
   "outputs": [
    {
     "name": "stdout",
     "output_type": "stream",
     "text": [
      "<class 'pandas.core.frame.DataFrame'>\n",
      "Int64Index: 23006 entries, 2 to 121219\n",
      "Data columns (total 26 columns):\n",
      "Unnamed: 0                    23006 non-null int64\n",
      "operation                     23006 non-null object\n",
      "property_type                 23006 non-null object\n",
      "place_name                    23006 non-null object\n",
      "place_with_parent_names       23006 non-null object\n",
      "country_name                  23006 non-null object\n",
      "state_name                    23006 non-null object\n",
      "geonames_id                   22031 non-null float64\n",
      "lat-lon                       17549 non-null object\n",
      "lat                           17549 non-null float64\n",
      "lon                           17549 non-null float64\n",
      "price                         23006 non-null float64\n",
      "currency                      23006 non-null object\n",
      "price_aprox_local_currency    23006 non-null float64\n",
      "price_aprox_usd               23006 non-null float64\n",
      "surface_total_in_m2           18935 non-null float64\n",
      "surface_covered_in_m2         21750 non-null float64\n",
      "price_usd_per_m2              18922 non-null float64\n",
      "price_per_m2                  21748 non-null float64\n",
      "floor                         2671 non-null float64\n",
      "rooms                         12542 non-null float64\n",
      "expenses                      5936 non-null float64\n",
      "properati_url                 23006 non-null object\n",
      "description                   23006 non-null object\n",
      "title                         23006 non-null object\n",
      "image_thumbnail               22741 non-null object\n",
      "dtypes: float64(13), int64(1), object(12)\n",
      "memory usage: 4.7+ MB\n"
     ]
    }
   ],
   "source": [
    "df2.info()"
   ]
  },
  {
   "cell_type": "markdown",
   "metadata": {},
   "source": [
    "# Limpieza\n",
    "\n",
    "Habiéndonos restringido a un subconjunto de interés del dataset, empecemos el proceso de limpiar los datos. Concetrémonos por ahora en la relación de las variables 'price', 'price_aprox_usd', 'surface_total_in_m2', 'price_usd_per_m2' y 'price_per_m2'. Algunas de éstas deberían ser iguales, otra cumplir relaciones matemáticas entre sí."
   ]
  },
  {
   "cell_type": "code",
   "execution_count": 16,
   "metadata": {},
   "outputs": [
    {
     "data": {
      "text/plain": [
       "0"
      ]
     },
     "execution_count": 16,
     "metadata": {},
     "output_type": "execute_result"
    }
   ],
   "source": [
    "len(df2[df2['price']!=df2['price_aprox_usd']])"
   ]
  },
  {
   "cell_type": "code",
   "execution_count": 17,
   "metadata": {},
   "outputs": [
    {
     "data": {
      "text/plain": [
       "18179"
      ]
     },
     "execution_count": 17,
     "metadata": {},
     "output_type": "execute_result"
    }
   ],
   "source": [
    "len(df2[df2['price_per_m2']!=df2['price_usd_per_m2']])"
   ]
  },
  {
   "cell_type": "markdown",
   "metadata": {},
   "source": [
    "'price' y 'price_aprox_usd' son iguales siempre, así que no perdemos nada con considerar sólo una de ellas. 'price_per_m2' y 'price_usd_per_m2' son diferentes en muchas filas, lo cual se debe en parte pero no en todo a que tienen muchos valores NaN. Sabemos que tienen que estar relacionadas con 'price' y 'surface_total_in_m2', así que miremos que obtenemos de eso"
   ]
  },
  {
   "cell_type": "code",
   "execution_count": 18,
   "metadata": {},
   "outputs": [
    {
     "data": {
      "text/plain": [
       "[<matplotlib.lines.Line2D at 0x7f28ea932cc0>]"
      ]
     },
     "execution_count": 18,
     "metadata": {},
     "output_type": "execute_result"
    },
    {
     "data": {
      "image/png": "[encoded data removed]",
      "text/plain": [
       "<Figure size 432x288 with 1 Axes>"
      ]
     },
     "metadata": {},
     "output_type": "display_data"
    }
   ],
   "source": [
    "#linea negra, precio declarado\n",
    "plt.plot(df2['price'],df2['price'], 'k-') \n",
    "#triangulos rojos, precio calculado en base a 'price_per_m2'\n",
    "plt.plot(df2['price'],df2['price_per_m2']*df2['surface_total_in_m2'],'r^')\n",
    "#puntos azules, precio calculado en base a 'price_usd_per_m2'\n",
    "plt.plot(df2['price'],df2['price_usd_per_m2']*df2['surface_total_in_m2'], 'b.')\n"
   ]
  },
  {
   "cell_type": "markdown",
   "metadata": {},
   "source": [
    "Vemos que el precio calculado en base a 'price_per_m2' * 'surface_total_in_m2' (triángulos rojos) difiere mucho del precio declarado (línea negra) en varios puntos. El precio calculado a base de 'price_usd_per_m2' parece ajustarse mucho mejor (vemos, de paso, un claro outlier en precio en el punto azul al extremo superior derecho)"
   ]
  },
  {
   "cell_type": "markdown",
   "metadata": {},
   "source": [
    "Examinando con mas detalle 'price_usd_per_m2', vemos que no es exactamente igual a 'price'/'surface_total_in_m2', pero los errores son minúsculos:"
   ]
  },
  {
   "cell_type": "code",
   "execution_count": 19,
   "metadata": {},
   "outputs": [
    {
     "data": {
      "text/plain": [
       "10053"
      ]
     },
     "execution_count": 19,
     "metadata": {},
     "output_type": "execute_result"
    }
   ],
   "source": [
    "len(df2[df2['price']/df2['surface_total_in_m2']!=df2['price_usd_per_m2']])"
   ]
  },
  {
   "cell_type": "code",
   "execution_count": 20,
   "metadata": {},
   "outputs": [
    {
     "data": {
      "text/plain": [
       "5.820766091346741e-11"
      ]
     },
     "execution_count": 20,
     "metadata": {},
     "output_type": "execute_result"
    }
   ],
   "source": [
    "diff=np.abs(df2['price']/df2['surface_total_in_m2']-df2['price_usd_per_m2'])\n",
    "diff.max()"
   ]
  },
  {
   "cell_type": "markdown",
   "metadata": {},
   "source": [
    "Ahora bien, incluso decidiendo que nos quedamos con 'price_usd_per_m2', todavía tiene este valores NaN. Veamos qué podemos solucionar de eso:"
   ]
  },
  {
   "cell_type": "code",
   "execution_count": 21,
   "metadata": {},
   "outputs": [
    {
     "data": {
      "text/plain": [
       "4084"
      ]
     },
     "execution_count": 21,
     "metadata": {},
     "output_type": "execute_result"
    }
   ],
   "source": [
    "df2['price_usd_per_m2'].isnull().sum()"
   ]
  },
  {
   "cell_type": "code",
   "execution_count": 22,
   "metadata": {},
   "outputs": [],
   "source": [
    "df2['price_usd_per_m2'].fillna(df2['price']/df2['surface_total_in_m2'], inplace=True)"
   ]
  },
  {
   "cell_type": "code",
   "execution_count": 23,
   "metadata": {},
   "outputs": [
    {
     "data": {
      "text/plain": [
       "4071"
      ]
     },
     "execution_count": 23,
     "metadata": {},
     "output_type": "execute_result"
    }
   ],
   "source": [
    "df2['price_usd_per_m2'].isnull().sum()"
   ]
  },
  {
   "cell_type": "markdown",
   "metadata": {},
   "source": [
    "Ganamos muy poco, porque 'surface_total_in_m2' tiene sus propios NaN. Recordemos que 'price_per_m2', aunque tenía algunas diferencias importantes con 'price'/'surface_total_in_m2', también tenia coincidencias. ¿Podemos usarlo como un parámetro confiable?"
   ]
  },
  {
   "cell_type": "code",
   "execution_count": 24,
   "metadata": {},
   "outputs": [
    {
     "data": {
      "text/plain": [
       "3705"
      ]
     },
     "execution_count": 24,
     "metadata": {},
     "output_type": "execute_result"
    }
   ],
   "source": [
    "len(df2[(df2['price_usd_per_m2'].isnull())&(~df2['price_per_m2'].isnull())])"
   ]
  },
  {
   "cell_type": "code",
   "execution_count": null,
   "metadata": {},
   "outputs": [],
   "source": []
  }
 ],
 "metadata": {
  "kernelspec": {
   "display_name": "Python 3",
   "language": "python",
   "name": "python3"
  },
  "language_info": {
   "codemirror_mode": {
    "name": "ipython",
    "version": 3
   },
   "file_extension": ".py",
   "mimetype": "text/x-python",
   "name": "python",
   "nbconvert_exporter": "python",
   "pygments_lexer": "ipython3",
   "version": "3.6.6"
  }
 },
 "nbformat": 4,
 "nbformat_minor": 2
}
